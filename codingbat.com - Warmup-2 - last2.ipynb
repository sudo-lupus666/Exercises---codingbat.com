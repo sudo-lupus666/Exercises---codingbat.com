{
 "cells": [
  {
   "cell_type": "markdown",
   "id": "2392d023",
   "metadata": {},
   "source": [
    "Given a string, return the count of the number of times that a substring length 2 appears in the string and also as the last 2 chars of the string, so \"hixxxhi\" yields 1 (we won't count the end substring)."
   ]
  },
  {
   "cell_type": "markdown",
   "id": "c042174f",
   "metadata": {},
   "source": [
    "Examples:\n",
    "    \n",
    "- last2('hixxhi') → 1 \n",
    "- last2('xaxxaxaxx') → 1\n",
    "- last2('axxxaaxx') → 2\n"
   ]
  },
  {
   "cell_type": "code",
   "execution_count": 110,
   "id": "e2043d17",
   "metadata": {},
   "outputs": [
    {
     "name": "stdout",
     "output_type": "stream",
     "text": [
      "referential is xx\n",
      "lenght is 10\n",
      "part checked is xx\n",
      "3\n",
      "xx\n",
      "4\n",
      "xx\n",
      "5\n",
      "xx\n",
      "6\n",
      "xx\n",
      "7\n",
      "xx\n",
      "8\n",
      "xx\n",
      "9\n",
      "xx\n",
      "10\n",
      "xx\n"
     ]
    },
    {
     "data": {
      "text/plain": [
       "8"
      ]
     },
     "execution_count": 110,
     "metadata": {},
     "output_type": "execute_result"
    }
   ],
   "source": [
    "def last2(string):\n",
    "    referential = string[-2:]\n",
    "    print (f'referential is {referential}')\n",
    "    lenght = len(string) +2 \n",
    "    print (f'lenght is {lenght}')\n",
    "    current_position = 2\n",
    "    part_checked = string[:current_position]\n",
    "    print (f'part checked is {part_checked}')\n",
    "    repetitions = 0\n",
    "    while current_position != lenght: \n",
    "        if part_checked == referential:\n",
    "            repetitions +=1\n",
    "            current_position +=1\n",
    "            print ()\n",
    "            print (part_checked)\n",
    "        else:\n",
    "            current_position +=1 \n",
    "            print (current_position)\n",
    "    return repetitions\n",
    "last2('xxxxaaxx')"
   ]
  },
  {
   "cell_type": "code",
   "execution_count": null,
   "id": "3de43558",
   "metadata": {},
   "outputs": [],
   "source": []
  },
  {
   "cell_type": "code",
   "execution_count": null,
   "id": "dd226843",
   "metadata": {},
   "outputs": [],
   "source": []
  },
  {
   "cell_type": "code",
   "execution_count": null,
   "id": "32a2bb2e",
   "metadata": {},
   "outputs": [],
   "source": []
  }
 ],
 "metadata": {
  "kernelspec": {
   "display_name": "Python 3 (ipykernel)",
   "language": "python",
   "name": "python3"
  },
  "language_info": {
   "codemirror_mode": {
    "name": "ipython",
    "version": 3
   },
   "file_extension": ".py",
   "mimetype": "text/x-python",
   "name": "python",
   "nbconvert_exporter": "python",
   "pygments_lexer": "ipython3",
   "version": "3.9.13"
  }
 },
 "nbformat": 4,
 "nbformat_minor": 5
}
